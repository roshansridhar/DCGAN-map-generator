{
 "cells": [
  {
   "cell_type": "code",
   "execution_count": 1,
   "metadata": {
    "collapsed": true
   },
   "outputs": [],
   "source": [
    "import os\n",
    "\n",
    "import torch\n",
    "import torch.nn as nn\n",
    "from torch.autograd import Variable\n",
    "import torch.nn.functional as F\n",
    "import torch.optim as optim\n",
    "\n",
    "import torchvision\n",
    "import torchvision.transforms as transforms\n",
    "import torchvision.datasets as dsets\n",
    "\n",
    "import matplotlib.pyplot as plt\n",
    "import numpy as np\n",
    "\n",
    "os.environ[\"CUDA_VISIBLE_DEVICES\"]=\"2\"\n",
    "%matplotlib inline"
   ]
  },
  {
   "cell_type": "markdown",
   "metadata": {},
   "source": [
    "### Utils"
   ]
  },
  {
   "cell_type": "code",
   "execution_count": 2,
   "metadata": {
    "collapsed": true
   },
   "outputs": [],
   "source": [
    "def load_dataset(batchSize, imgSize):\n",
    "    transform=transforms.Compose([\n",
    "                        transforms.Scale(imgSize),\n",
    "#                         transforms.Resize(imgSize),\n",
    "#                         transforms.RandomRotation(degrees=(90, 180, 270)), #ignore; manually resized\n",
    "                        transforms.ToTensor(),\n",
    "                        transforms.Normalize((0.5, 0.5, 0.5), (0.5, 0.5, 0.5)),\n",
    "                        ])\n",
    "    path = './TilesetInput/dataset'\n",
    "    dataset = dsets.ImageFolder(root=path, transform=transform)\n",
    "\n",
    "    dataloader = torch.utils.data.DataLoader(dataset, batch_size=batchSize, shuffle=True, num_workers=0, drop_last=True)\n",
    "    \n",
    "    return dataloader\n",
    "\n",
    "\n",
    "def noise(noiseSize):\n",
    "    def _noise(batchSize):\n",
    "        return torch.randn(batchSize, noiseSize, 1, 1).cuda()\n",
    "    return _noise"
   ]
  },
  {
   "cell_type": "markdown",
   "metadata": {},
   "source": [
    "#### Displaying random training images"
   ]
  },
  {
   "cell_type": "code",
   "execution_count": 3,
   "metadata": {},
   "outputs": [
    {
     "data": {
      "image/png": "[encoded data removed]",
      "text/plain": [
       "<matplotlib.figure.Figure at 0x7fcc2098b048>"
      ]
     },
     "metadata": {},
     "output_type": "display_data"
    }
   ],
   "source": [
    "plotBatchSize = 4\n",
    "plotImgSize = 128\n",
    "\n",
    "# functions to show an image\n",
    "def imshow(img):\n",
    "    img = img / 2 + 0.5     # unnormalize\n",
    "    npimg = img.numpy()\n",
    "    plt.imshow(np.transpose(npimg, (1, 2, 0)))\n",
    "\n",
    "# get some random training images\n",
    "dataiter = iter(load_dataset(plotBatchSize, plotImgSize))\n",
    "images, labels = dataiter.next()\n",
    "\n",
    "# show images\n",
    "imshow(torchvision.utils.make_grid(images))"
   ]
  },
  {
   "cell_type": "markdown",
   "metadata": {},
   "source": [
    "### Model"
   ]
  },
  {
   "cell_type": "code",
   "execution_count": 4,
   "metadata": {
    "collapsed": true
   },
   "outputs": [],
   "source": [
    "nz  = 100 # Number of dimensions for latent Z vector\n",
    "ngf = 64  # Number of generator filters\n",
    "ndf = 64  # Number of discriminator filters\n",
    "nc  = 3   # Number of channels"
   ]
  },
  {
   "cell_type": "code",
   "execution_count": 5,
   "metadata": {
    "scrolled": false
   },
   "outputs": [
    {
     "name": "stdout",
     "output_type": "stream",
     "text": [
      "Generator_ (\n",
      "  (main): Sequential (\n",
      "    (0): ConvTranspose2d(100, 512, kernel_size=(4, 4), stride=(2, 2))\n",
      "    (1): BatchNorm2d(512, eps=1e-05, momentum=0.1, affine=True)\n",
      "    (2): ReLU (inplace)\n",
      "    (3): ConvTranspose2d(512, 256, kernel_size=(4, 4), stride=(2, 2), padding=(1, 1))\n",
      "    (4): BatchNorm2d(256, eps=1e-05, momentum=0.1, affine=True)\n",
      "    (5): ReLU (inplace)\n",
      "    (6): ConvTranspose2d(256, 128, kernel_size=(4, 4), stride=(2, 2), padding=(1, 1))\n",
      "    (7): BatchNorm2d(128, eps=1e-05, momentum=0.1, affine=True)\n",
      "    (8): ReLU (inplace)\n",
      "    (9): ConvTranspose2d(128, 64, kernel_size=(4, 4), stride=(2, 2), padding=(1, 1))\n",
      "    (10): BatchNorm2d(64, eps=1e-05, momentum=0.1, affine=True)\n",
      "    (11): ReLU (inplace)\n",
      "    (12): ConvTranspose2d(64, 3, kernel_size=(4, 4), stride=(2, 2), padding=(1, 1))\n",
      "    (13): Tanh ()\n",
      "  )\n",
      ")\n"
     ]
    }
   ],
   "source": [
    "class Generator_(nn.Module):\n",
    "    def __init__(self):\n",
    "        super(Generator_, self).__init__()\n",
    "        self.main = nn.Sequential(\n",
    "            nn.ConvTranspose2d( in_channels=nz, out_channels=ngf * 8, kernel_size=4, stride=2, padding=0),\n",
    "            nn.BatchNorm2d(num_features=ngf * 8),\n",
    "            nn.ReLU(inplace=True),\n",
    "            nn.ConvTranspose2d( in_channels=ngf * 8, out_channels=ngf * 4, kernel_size=4, stride=2, padding=1),\n",
    "            nn.BatchNorm2d(num_features=ngf * 4),\n",
    "            nn.ReLU(inplace=True),\n",
    "            nn.ConvTranspose2d( in_channels=ngf * 4, out_channels=ngf * 2, kernel_size=4, stride=2, padding=1),\n",
    "            nn.BatchNorm2d(num_features=ngf * 2),\n",
    "            nn.ReLU(inplace=True),\n",
    "            nn.ConvTranspose2d(in_channels=ngf * 2, out_channels=ngf, kernel_size=4, stride=2, padding=1),\n",
    "            nn.BatchNorm2d(num_features=ngf),\n",
    "            nn.ReLU(inplace=True),            \n",
    "            nn.ConvTranspose2d(in_channels=ngf, out_channels=nc, kernel_size=4, stride=2, padding=1),\n",
    "            nn.Tanh()\n",
    "        )\n",
    "    \n",
    "    def forward(self, input):\n",
    "#         print(input)\n",
    "        output = self.main(input)\n",
    "#         print(output)\n",
    "        return output\n",
    "\n",
    "gnet = Generator_()\n",
    "gnet = gnet.cuda()\n",
    "print(gnet)"
   ]
  },
  {
   "cell_type": "code",
   "execution_count": 6,
   "metadata": {},
   "outputs": [
    {
     "name": "stdout",
     "output_type": "stream",
     "text": [
      "Discriminator_ (\n",
      "  (main): Sequential (\n",
      "    (0): Conv2d(3, 64, kernel_size=(4, 4), stride=(2, 2), padding=(1, 1), bias=False)\n",
      "    (1): BatchNorm2d(64, eps=1e-05, momentum=0.1, affine=True)\n",
      "    (2): LeakyReLU (0.2, inplace)\n",
      "    (3): Conv2d(64, 128, kernel_size=(4, 4), stride=(2, 2), padding=(1, 1), bias=False)\n",
      "    (4): BatchNorm2d(128, eps=1e-05, momentum=0.1, affine=True)\n",
      "    (5): LeakyReLU (0.2, inplace)\n",
      "    (6): Conv2d(128, 256, kernel_size=(4, 4), stride=(2, 2), padding=(1, 1), bias=False)\n",
      "    (7): BatchNorm2d(256, eps=1e-05, momentum=0.1, affine=True)\n",
      "    (8): LeakyReLU (0.2, inplace)\n",
      "    (9): Conv2d(256, 512, kernel_size=(4, 4), stride=(2, 2), padding=(1, 1), bias=False)\n",
      "    (10): BatchNorm2d(512, eps=1e-05, momentum=0.1, affine=True)\n",
      "    (11): LeakyReLU (0.2, inplace)\n",
      "    (12): Conv2d(512, 1, kernel_size=(4, 4), stride=(1, 1), bias=False)\n",
      "    (13): Sigmoid ()\n",
      "  )\n",
      ")\n"
     ]
    }
   ],
   "source": [
    "class Discriminator_(nn.Module):\n",
    "    def __init__(self):\n",
    "        super(Discriminator_, self).__init__()\n",
    "        self.main = nn.Sequential(\n",
    "            nn.Conv2d(nc, ndf, kernel_size=4, stride=2, padding=1, bias=False),\n",
    "            nn.BatchNorm2d(ndf),\n",
    "            nn.LeakyReLU(0.2, inplace=True),\n",
    "            nn.Conv2d(ndf, ndf * 2, kernel_size=4, stride=2, padding=1, bias=False),\n",
    "            nn.BatchNorm2d(ndf * 2),\n",
    "            nn.LeakyReLU(0.2, inplace=True),\n",
    "            nn.Conv2d(ndf * 2, ndf * 4, kernel_size=4, stride=2, padding=1, bias=False),\n",
    "            nn.BatchNorm2d(ndf * 4),\n",
    "            nn.LeakyReLU(0.2, inplace=True),\n",
    "            nn.Conv2d(ndf * 4, ndf * 8, kernel_size=4, stride=2, padding=1, bias=False),\n",
    "            nn.BatchNorm2d(ndf * 8),\n",
    "            nn.LeakyReLU(0.2, inplace=True),\n",
    "            nn.Conv2d(ndf * 8, 1, kernel_size=4, stride=1, bias=False), \n",
    "            nn.Sigmoid()\n",
    "        )\n",
    "    \n",
    "    def forward(self, input):\n",
    "        output = self.main(input)        \n",
    "        output = output.view(-1,1).squeeze(1)\n",
    "        return output\n",
    "\n",
    "dnet = Discriminator_()\n",
    "dnet = dnet.cuda()\n",
    "print(dnet)"
   ]
  },
  {
   "cell_type": "markdown",
   "metadata": {},
   "source": [
    "### Optimizer"
   ]
  },
  {
   "cell_type": "code",
   "execution_count": 7,
   "metadata": {
    "collapsed": true
   },
   "outputs": [],
   "source": [
    "criterion = nn.BCELoss().cuda()\n",
    "optimizer_g = optim.Adam(gnet.parameters(), lr=0.0005, betas=(0.5, 0.999))\n",
    "optimizer_d = optim.Adam(dnet.parameters(), lr=0.0005, betas=(0.5, 0.999))"
   ]
  },
  {
   "cell_type": "code",
   "execution_count": null,
   "metadata": {},
   "outputs": [
    {
     "data": {
      "text/plain": [
       "4"
      ]
     },
     "execution_count": 8,
     "metadata": {},
     "output_type": "execute_result"
    }
   ],
   "source": [
    "# Hidden layer calculation \n",
    "batch_size = 64\n",
    "\n",
    "import math as ma\n",
    "ma.floor(ma.log(batch_size // 4, 2))"
   ]
  },
  {
   "cell_type": "markdown",
   "metadata": {},
   "source": [
    "### Training"
   ]
  },
  {
   "cell_type": "code",
   "execution_count": 1,
   "metadata": {},
   "outputs": [
    {
     "name": "stdout",
     "output_type": "stream",
     "text": [
      "Weights loaded successfully.\n"
     ]
    }
   ],
   "source": [
    "# Optional: To load saved weights\n",
    "folder = 'sc_dcgan-1_out'\n",
    "\n",
    "dnet.load_state_dict(torch.load('./{}/dnet_dict.pth'.format(folder)))\n",
    "gnet.load_state_dict(torch.load('./{}/gnet_dict.pth'.format(folder)))\n",
    "print(\"Weights loaded successfully.\")"
   ]
  },
  {
   "cell_type": "code",
   "execution_count": null,
   "metadata": {
    "scrolled": false
   },
   "outputs": [
    {
     "name": "stdout",
     "output_type": "stream",
     "text": [
      "Started Training\n",
      "Iteration 0\n"
     ]
    }
   ],
   "source": [
    "input_size = 100\n",
    "batch_size = 64\n",
    "img_size = 64\n",
    "iterations = 10000\n",
    "noise_z = Variable(torch.rand(batch_size, input_size, 1, 1).cuda())\n",
    "folder = 'sc_dcgan-3_out'\n",
    "dataloader = load_dataset(batch_size, img_size)\n",
    "\n",
    "# Generating a log file for the status printed below\n",
    "import logging\n",
    "logging.basicConfig(filename='./{}/sc_dcgan-3.log'.format(folder), level=logging.INFO)\n",
    "print('Started Training')\n",
    "logging.info('Started Training')\n",
    "\n",
    "\n",
    "# Training Loop\n",
    "for epoch in range(10001):\n",
    "    for i, data in enumerate(dataloader, 0):\n",
    "\n",
    "        # Discriminator Training\n",
    "        #\n",
    "        dnet.zero_grad()\n",
    "        # real training\n",
    "        inputs_d, _ = data\n",
    "        inputs_d = Variable(inputs_d.cuda())\n",
    "        # print(inputs_d.data.shape)\n",
    "        \n",
    "        outputs_d = dnet(inputs_d)\n",
    "        # print(outputs_d.data.shape)\n",
    "        loss_d_real = criterion(outputs_d, Variable(torch.ones(batch_size).cuda()))\n",
    "        loss_d_real.backward()\n",
    "\n",
    "        # fake training\n",
    "        inputs_g = noise_z\n",
    "        # print(inputs_g.data.shape)\n",
    "        outputs_g = gnet(inputs_g)\n",
    "        # detach() is used to detach the variable from its graph\n",
    "        outputs_dg = dnet(outputs_g.detach())\n",
    "\n",
    "        loss_d_fake = criterion(outputs_dg, Variable(torch.zeros(batch_size).cuda()))\n",
    "        loss_d_fake.backward()\n",
    "        loss_d = loss_d_real + loss_d_fake\n",
    "        optimizer_d.step()\n",
    "\n",
    "        # Generator Training\n",
    "        #\n",
    "        gnet.zero_grad()\n",
    "        outputs_dg = dnet(outputs_g)\n",
    "        loss_g = criterion(outputs_dg, Variable(torch.ones(batch_size).cuda()))\n",
    "        loss_g.backward()\n",
    "        optimizer_g.step()\n",
    "        \n",
    "# Print statistics            \n",
    "    if epoch % (iterations/100) == 0:\n",
    "        print(\"Iteration {}\".format(epoch))\n",
    "        logging.info(\"Iteration {}\".format(epoch))\n",
    "        torchvision.utils.save_image(inputs_d.data,\n",
    "                './{}/real_samples_epoch_{:05d}.png'.format(folder, epoch),\n",
    "                normalize=True)\n",
    "        torchvision.utils.save_image(outputs_g.data,\n",
    "                './{}/fake_samples_epoch_{:05d}.png'.format(folder, epoch),\n",
    "                normalize=True)\n",
    "\n",
    "# Save checkpoints for weights\n",
    "    if epoch % (iterations/10) == 0:\n",
    "        torch.save(dnet.state_dict(), './{}/dnet_dict_ep{:05d}.pth'.format(folder, epoch))\n",
    "        torch.save(gnet.state_dict(), './{}/gnet_dict_ep{:05d}.pth'.format(folder, epoch))\n",
    "        \n",
    "print('Finished Training')\n",
    "logging.info('Finished Training')"
   ]
  },
  {
   "cell_type": "code",
   "execution_count": null,
   "metadata": {
    "collapsed": true
   },
   "outputs": [],
   "source": [
    "torch.save(dnet.state_dict(), './{}/dnet_dict.pth'.format(folder))\n",
    "torch.save(gnet.state_dict(), './{}/gnet_dict.pth'.format(folder))\n",
    "print(\"Weights saved successfully.\")"
   ]
  },
  {
   "cell_type": "raw",
   "metadata": {
    "collapsed": true
   },
   "source": [
    "random_noise = torch.rand(batch_size,100, 1, 1).cuda()\n",
    "fixed_noise = Variable(random_noise.cuda())\n",
    "outputs_img = gnet(Variable(random_noise.cuda()))\n",
    "outputs_img = gnet(fixed_noise)\n",
    "outputs_dg = dnet(outputs_img)\n",
    "\n",
    "plt.imshow(np.rollaxis(outputs_img.data.cpu().numpy(), 1, 4)[0])\n",
    "plt.show()\n"
   ]
  },
  {
   "cell_type": "code",
   "execution_count": null,
   "metadata": {
    "collapsed": true
   },
   "outputs": [],
   "source": []
  }
 ],
 "metadata": {
  "anaconda-cloud": {},
  "kernelspec": {
   "display_name": "Python 3",
   "language": "python",
   "name": "python3"
  },
  "language_info": {
   "codemirror_mode": {
    "name": "ipython",
    "version": 3
   },
   "file_extension": ".py",
   "mimetype": "text/x-python",
   "name": "python",
   "nbconvert_exporter": "python",
   "pygments_lexer": "ipython3",
   "version": "3.6.3"
  }
 },
 "nbformat": 4,
 "nbformat_minor": 1
}
